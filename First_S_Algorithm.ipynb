{
 "cells": [
  {
   "cell_type": "code",
   "execution_count": 1,
   "id": "8d526476-da7b-44da-8687-43fb8e16188a",
   "metadata": {},
   "outputs": [
    {
     "ename": "ModuleNotFoundError",
     "evalue": "No module named 'pandas'",
     "output_type": "error",
     "traceback": [
      "\u001b[1;31m---------------------------------------------------------------------------\u001b[0m",
      "\u001b[1;31mModuleNotFoundError\u001b[0m                       Traceback (most recent call last)",
      "Cell \u001b[1;32mIn[1], line 1\u001b[0m\n\u001b[1;32m----> 1\u001b[0m \u001b[38;5;28;01mimport\u001b[39;00m\u001b[38;5;250m \u001b[39m\u001b[38;5;21;01mpandas\u001b[39;00m\u001b[38;5;250m \u001b[39m\u001b[38;5;28;01mas\u001b[39;00m\u001b[38;5;250m \u001b[39m\u001b[38;5;21;01mpd\u001b[39;00m\n\u001b[0;32m      2\u001b[0m \u001b[38;5;28;01mimport\u001b[39;00m\u001b[38;5;250m \u001b[39m\u001b[38;5;21;01mnumpy\u001b[39;00m\u001b[38;5;250m \u001b[39m\u001b[38;5;28;01mas\u001b[39;00m\u001b[38;5;250m \u001b[39m\u001b[38;5;21;01mnp\u001b[39;00m\n",
      "\u001b[1;31mModuleNotFoundError\u001b[0m: No module named 'pandas'"
     ]
    }
   ],
   "source": [
    "import pandas as pd\n",
    "import numpy as np"
   ]
  },
  {
   "cell_type": "code",
   "execution_count": null,
   "id": "7c372666-71bb-468c-bee3-9ff9b15d8f3b",
   "metadata": {},
   "outputs": [],
   "source": [
    "data = pd.read_csv('tan.csv')"
   ]
  },
  {
   "cell_type": "code",
   "execution_count": null,
   "id": "e84ac70e-3979-4e88-9979-686fb10a712b",
   "metadata": {},
   "outputs": [],
   "source": [
    "concepts = np.array(data) [:,:-1]"
   ]
  },
  {
   "cell_type": "code",
   "execution_count": null,
   "id": "76b0765f-27bd-40d7-9876-bf7be1070e56",
   "metadata": {},
   "outputs": [
    {
     "data": {
      "text/plain": [
       "array([['sunny', 'warm', 'normal', 'storng', 'warm', 'same'],\n",
       "       ['sunny', 'warm', 'high', 'storng', 'warm', 'same'],\n",
       "       ['rainy', 'cold', 'high', 'storng', 'warm', 'change'],\n",
       "       ['sunny', 'warm', 'high', 'storng', 'cool', 'change']],\n",
       "      dtype=object)"
      ]
     },
     "execution_count": 43,
     "metadata": {},
     "output_type": "execute_result"
    }
   ],
   "source": [
    "concepts"
   ]
  },
  {
   "cell_type": "code",
   "execution_count": null,
   "id": "44b9f82c-1380-4265-ae06-9c5893741958",
   "metadata": {},
   "outputs": [],
   "source": [
    "target = np.array(data) [:,-1]"
   ]
  },
  {
   "cell_type": "code",
   "execution_count": null,
   "id": "3efeabd3-c81c-42c5-a088-ecb7c17d7f64",
   "metadata": {},
   "outputs": [
    {
     "data": {
      "text/plain": [
       "array(['yes', 'yes', 'no', 'yes'], dtype=object)"
      ]
     },
     "execution_count": 47,
     "metadata": {},
     "output_type": "execute_result"
    }
   ],
   "source": [
    "target"
   ]
  },
  {
   "cell_type": "code",
   "execution_count": null,
   "id": "64f74035-400f-4730-9351-9ebef6b994fb",
   "metadata": {},
   "outputs": [],
   "source": [
    "def train(concepts,target):\n",
    "    for i, val in enumerate(target):\n",
    "        if val == 'yes':\n",
    "            specific_h = concepts[i].copy()\n",
    "            break\n",
    "            \n",
    "    for i, val in enumerate(concepts):\n",
    "        if target[i] == 'yes':\n",
    "            for x in range(len(specific_h)):\n",
    "                if val[x] != specific_h[x]:\n",
    "                    specific_h[x] = '?'\n",
    "                else:\n",
    "                    pass\n",
    "    return specific_h\n",
    "            "
   ]
  },
  {
   "cell_type": "code",
   "execution_count": null,
   "id": "f5dc17b2-4c5c-4dbb-8436-93a508516983",
   "metadata": {},
   "outputs": [
    {
     "name": "stdout",
     "output_type": "stream",
     "text": [
      "['sunny' 'warm' '?' 'storng' '?' '?']\n"
     ]
    }
   ],
   "source": [
    "print(train(concepts,target))"
   ]
  },
  {
   "cell_type": "code",
   "execution_count": null,
   "id": "3dfc3822-bf41-40ba-a521-061f39242442",
   "metadata": {},
   "outputs": [],
   "source": []
  },
  {
   "cell_type": "code",
   "execution_count": null,
   "id": "4563d3b4-6f22-4599-a54a-322b26e65380",
   "metadata": {},
   "outputs": [],
   "source": []
  },
  {
   "cell_type": "code",
   "execution_count": null,
   "id": "99abb1e2-5ff4-40b6-aa7b-ce2946cc7eed",
   "metadata": {},
   "outputs": [],
   "source": []
  },
  {
   "cell_type": "code",
   "execution_count": null,
   "id": "e738b6be-dc3d-4bf5-858e-94d55ea94ee9",
   "metadata": {},
   "outputs": [],
   "source": []
  },
  {
   "cell_type": "code",
   "execution_count": null,
   "id": "02e133f0-3fdb-46ac-a878-1b01301c41a6",
   "metadata": {},
   "outputs": [],
   "source": []
  },
  {
   "cell_type": "code",
   "execution_count": null,
   "id": "ea4ed371-879c-47a8-a584-7f159e68a499",
   "metadata": {},
   "outputs": [],
   "source": []
  },
  {
   "cell_type": "code",
   "execution_count": null,
   "id": "391175e0-703d-4880-a95a-e4c749fe4291",
   "metadata": {},
   "outputs": [],
   "source": []
  }
 ],
 "metadata": {
  "kernelspec": {
   "display_name": "Python 3",
   "language": "python",
   "name": "python3"
  },
  "language_info": {
   "codemirror_mode": {
    "name": "ipython",
    "version": 3
   },
   "file_extension": ".py",
   "mimetype": "text/x-python",
   "name": "python",
   "nbconvert_exporter": "python",
   "pygments_lexer": "ipython3",
   "version": "3.11.1"
  }
 },
 "nbformat": 4,
 "nbformat_minor": 5
}
